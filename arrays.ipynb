{
 "cells": [
  {
   "cell_type": "code",
   "execution_count": 3,
   "metadata": {},
   "outputs": [
    {
     "name": "stdout",
     "output_type": "stream",
     "text": [
      "<class 'numpy.ndarray'>\n",
      "int32\n",
      "(3,)\n",
      "1 2 3\n",
      "[1 2 4]\n",
      "(2, 3)\n",
      "1 2 4\n",
      "[4 5 6]\n",
      "[[0. 0.]\n",
      " [0. 0.]]\n",
      "[[1. 1.]]\n",
      "[[5 5]\n",
      " [5 5]]\n",
      "[[0. 1. 0. 0.]\n",
      " [0. 0. 1. 0.]\n",
      " [0. 0. 0. 1.]\n",
      " [0. 0. 0. 0.]]\n",
      "[[0.18394881 0.36553124]\n",
      " [0.28486356 0.27578173]]\n"
     ]
    }
   ],
   "source": [
    "import numpy as np\n",
    "# Discovering numpy\n",
    "# create a rank 1 dimensional array\n",
    "arr = np.array([1,2,3])         # \n",
    "print(type(arr))                # class numpy.ndarray\n",
    "print(arr.dtype)                # int64\n",
    "print(arr.shape)                # (3,)\n",
    "print(arr[0], arr[1], arr[2])   # 1 2 3 \n",
    "arr[2] = 4                      # changes the last element [2], to 4\n",
    "print(arr)                      # [1 2 4]\n",
    "\n",
    "# make a rank 2 array\n",
    "arr2 = np.array([[1,2,3],[4,5,6]])      \n",
    "print(arr2.shape)                       # (2, 3)\n",
    "print(arr2[0,0], arr2[0,1], arr2[1,0])  # 1 2 4\n",
    "print(arr2[-1])                         # only printing the last element(hence the negative)  [4 5 6]\n",
    "\n",
    "\n",
    "\n",
    "# to generate arrays in a different way with numpy\n",
    "# create array of zeros with two dimensions and a size of 2\n",
    "zero = np.zeros((2,2))\n",
    "print(zero)\n",
    "# [[0. 0.]\n",
    "# [0. 0.]]\n",
    "\n",
    "# create an array of ones with one dimension and size of two\n",
    "one = np.ones((1,2))\n",
    "print(one)\n",
    "# 5 5\n",
    "# 5 5\n",
    "\n",
    "# create an array with a given shape, type, and with value\n",
    "constant = np.full((2,2),5)\n",
    "print(constant)\n",
    "# three rows\n",
    "# 1. 0. 0.\n",
    "# 0. 1. 0.\n",
    "# 0. 0. 1.\n",
    "\n",
    "\n",
    "# create a 2 dimensional array with one on diagonal and 0 on others\n",
    "diag = np.eye(4,k=1)\n",
    "print(diag)\n",
    "# four rows\n",
    "# 0. 1. 0. 0.\n",
    "# 0. 0. 1. 0.\n",
    "# 0. 0. 0. 1.\n",
    "# 0. 0. 0. 0.\n",
    "\n",
    "# create an array of random values\n",
    "rand = np.random.random((2,2))\n",
    "print(rand)\n",
    "# two by two of random numbers\n",
    "# wow this is pretty cool"
   ]
  },
  {
   "cell_type": "code",
   "execution_count": null,
   "metadata": {},
   "outputs": [],
   "source": [
    "# array indexing\n",
    "arr = np.arange(10)  # generating array [0 1 2 3 4 5 6 7 8 9]\n",
    "print(arr[0:8:2])   # print every two number from 0 but before 8\n",
    "\n",
    "# create a rank 2 with shape (3,4) array\n",
    "arr = np.array([[1,2,3,4],[5,6,7,8],[9,10,11,12]])\n",
    "print(arr[:2,:2])           # [[1 2]\n",
    "                            #  [5 6]]\n",
    "\n",
    "# indexing integers\n",
    "arr = np.array([[1,2],[3,4],[5,6]])\n",
    "print(arr[[0,1,2],[0,1,1]])             \n",
    "# [1 4 6]\n"
   ]
  }
 ],
 "metadata": {
  "interpreter": {
   "hash": "6a2cbf5d810891b383756a3fe8a605de24d873e1b07e96f276b8b72b39c8572e"
  },
  "kernelspec": {
   "display_name": "Python 3.9.7 64-bit",
   "language": "python",
   "name": "python3"
  },
  "language_info": {
   "codemirror_mode": {
    "name": "ipython",
    "version": 3
   },
   "file_extension": ".py",
   "mimetype": "text/x-python",
   "name": "python",
   "nbconvert_exporter": "python",
   "pygments_lexer": "ipython3",
   "version": "3.9.7"
  },
  "orig_nbformat": 4
 },
 "nbformat": 4,
 "nbformat_minor": 2
}
